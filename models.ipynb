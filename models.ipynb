{
  "cells": [
    {
      "cell_type": "code",
      "execution_count": 4,
      "metadata": {
        "id": "kGOvz7m0BDvD",
        "colab": {
          "base_uri": "https://localhost:8080/"
        },
        "outputId": "aaf3bd51-01d9-4a6a-b153-744243f76867"
      },
      "outputs": [
        {
          "output_type": "stream",
          "name": "stdout",
          "text": [
            "Mounted at /content/drive\n"
          ]
        }
      ],
      "source": [
        "from google.colab import drive\n",
        "drive.mount('/content/drive')"
      ]
    },
    {
      "cell_type": "code",
      "execution_count": 5,
      "metadata": {
        "colab": {
          "base_uri": "https://localhost:8080/"
        },
        "id": "zZ0IK17wBQ0K",
        "outputId": "4f4a014f-90a6-4fba-d195-1f35e76ec4a4"
      },
      "outputs": [
        {
          "output_type": "stream",
          "name": "stdout",
          "text": [
            "Done\n"
          ]
        }
      ],
      "source": [
        "from zipfile import ZipFile\n",
        "file_name = '/content/drive/MyDrive/data.zip'\n",
        "\n",
        "with ZipFile(file_name, 'r') as zip:\n",
        "  zip.extractall()\n",
        "  print('Done')"
      ]
    },
    {
      "cell_type": "code",
      "execution_count": 6,
      "metadata": {
        "id": "dK7AtcMGBS5T"
      },
      "outputs": [],
      "source": [
        "from cProfile import label\n",
        "import cv2\n",
        "import os\n",
        "from PIL import Image\n",
        "from sklearn.svm import SVC\n",
        "from sklearn.neural_network import MLPClassifier\n",
        "from sklearn.metrics import roc_curve, auc, accuracy_score, precision_score, recall_score, f1_score, roc_auc_score, confusion_matrix, ConfusionMatrixDisplay, RocCurveDisplay\n",
        "import numpy as np\n",
        "import time\n",
        "import tensorflow as tf\n",
        "from tensorflow.keras.preprocessing.image import load_img, img_to_array\n",
        "from tensorflow.keras.layers import Conv2D, ELU, BatchNormalization, MaxPooling2D, Dropout, Flatten, Dense\n",
        "from tensorflow.keras.models import Sequential\n",
        "import matplotlib.pyplot as plt\n",
        "from sklearn.decomposition import PCA\n",
        "from sklearn.ensemble import RandomForestClassifier\n",
        "from sklearn.tree import DecisionTreeClassifier\n",
        "from sklearn.model_selection import GridSearchCV, KFold, cross_validate"
      ]
    },
    {
      "cell_type": "code",
      "execution_count": 7,
      "metadata": {
        "id": "11geom6tI518"
      },
      "outputs": [],
      "source": [
        "%matplotlib inline"
      ]
    },
    {
      "cell_type": "code",
      "execution_count": 8,
      "metadata": {
        "id": "xZqHTZ0eBeu9"
      },
      "outputs": [],
      "source": [
        "cascade_face = cv2.CascadeClassifier('haarcascade_frontalface_alt.xml')\n",
        "cascade_smile = cv2.CascadeClassifier('haarcascade_smile.xml')\n",
        "cascade_mouth = cv2.CascadeClassifier('haarcascade_mcs_mouth.xml')"
      ]
    },
    {
      "cell_type": "code",
      "execution_count": 9,
      "metadata": {
        "id": "KFrbif9-BhnV"
      },
      "outputs": [],
      "source": [
        "def crop_faces(source_dir, output_dir):\n",
        "    \"\"\"\n",
        "    Retrieves the images from the given directory and locates the face within each image and crops it\n",
        "    as a rectangle. The function assumes there is only one face\n",
        "    \"\"\"\n",
        "    failed_to_crop = []\n",
        "    for index, image_file in enumerate(sorted(os.listdir(source_dir))):\n",
        "\n",
        "        image_path = os.path.join(source_dir, image_file)\n",
        "        if \".DS_Store\" in image_path:\n",
        "            continue\n",
        "            \n",
        "        image = Image.open(image_path).convert('LA')\n",
        "        # Haar Cascade detectMultiScale function takes image, ScaleFactor, minNeighbors\n",
        "        SCALE_FACTOR = 1.1\n",
        "        MIN_NEIGHBORS = 5\n",
        "        # cv2_image = cascade_smile.detectMultiScale(cv2.imread(image_path),  1.1, 12)\n",
        "        cv2_image = cascade_face.detectMultiScale(cv2.imread(image_path), SCALE_FACTOR, MIN_NEIGHBORS)\n",
        "        \n",
        "        cropped_filename = 'cropped_' + image_file[:-4] + '.png'\n",
        "        write_path = os.path.join(output_dir, cropped_filename)\n",
        "        if len(cv2_image) != 0:\n",
        "            # face detected\n",
        "            # cv2_image.save(write_path)\n",
        "            for face in cv2_image:\n",
        "                cropped_image = crop_image(image, cv2_image[0])\n",
        "                cropped_image.save(write_path)\n",
        "        else:\n",
        "            # save the original image\n",
        "            failed_to_crop.append(index)\n",
        "            image.save(write_path)\n",
        "\n",
        "def crop_image(image, feature):\n",
        "    \"\"\"\n",
        "    Crop the image based on the detected frame of the feature\n",
        "    \"\"\"\n",
        "    # cropping area: x, y, x + w, y + h\n",
        "    area = (feature[0], feature[1], feature[0] + feature[2], feature[1] + feature[3])\n",
        "    return image.crop(area)"
      ]
    },
    {
      "cell_type": "code",
      "execution_count": 10,
      "metadata": {
        "id": "RtE33Fl3B8Kc"
      },
      "outputs": [],
      "source": [
        "def process_data(src_dir, labels_path, img_size, grey_scale=False):\n",
        "    # get list of image files\n",
        "    image_files = sorted(os.listdir(src_dir))\n",
        "\n",
        "    # allocate space for images and their respective labels\n",
        "    if grey_scale:\n",
        "      image_data = np.ndarray(shape=(len(image_files), img_size, img_size, 1), dtype=np.float32)\n",
        "    else:\n",
        "      image_data = np.ndarray(shape=(len(image_files), img_size, img_size, 3), dtype=np.float32)\n",
        "    labels = np.zeros(len(image_files))\n",
        "\n",
        "    # image data \n",
        "    for i, image in enumerate(image_files):\n",
        "        if image[-3:] == 'png':\n",
        "            # read image\n",
        "            curr_image = cv2.imread(os.path.join(src_dir, image)).astype('float32')\n",
        "            if grey_scale:\n",
        "              grey_image = cv2.cvtColor(curr_image, cv2.COLOR_BGR2GRAY)\n",
        "              image_data[i, :, :, :] = cv2.resize(grey_image, (img_size, img_size)).reshape((img_size, img_size, 1))\n",
        "            else:\n",
        "              image_data[i, :, :, :] = cv2.resize(curr_image, (img_size, img_size))\n",
        "\n",
        "    # label data\n",
        "    label_file = open(labels_path, \"r\")\n",
        "    for i, label in enumerate(label_file):\n",
        "        labels[i] = label.split()[0]\n",
        "    label_file.close()\n",
        "\n",
        "    failed_to_crop = [15, 18, 30, 39, 64, 81, 82, 86, 114, 125, 182, 207, 208, 216, 217, 241, 261, 264, 281, 295, 319, 330, 334, 352, 353, 354, 398, 399, 404, 410, 434, 437, 444, 453, 454, 466, 506, 540, 544, 549, 553, 587, 669, 672, 674, 675, 688, 694, 701, 703, 707, 710, 739, 752, 777, 782, 786, 822, 825, 829, 858, 873, 880, 881, 930, 941, 995, 1018, 1038, 1067, 1068, 1082, 1086, 1096, 1100, 1120, 1136, 1179, 1247, 1270, 1272, 1292, 1303, 1312, 1318, 1351, 1355, 1367, 1402, 1403, 1429, 1474, 1497, 1499, 1500, 1506, 1508, 1515, 1543, 1562, 1568, 1569, 1574, 1580, 1582, 1591, 1613, 1621, 1645, 1646, 1654, 1666, 1684, 1690, 1726, 1749, 1759, 1760, 1761, 1765, 1767, 1776, 1777, 1797, 1808, 1812, 1819, 1861, 1872, 1879, 1887, 1899, 1923, 1937, 1945, 1947, 1958, 1970, 1978, 1992, 2006, 2024, 2046, 2064, 2081, 2110, 2111, 2131, 2147, 2169, 2177, 2190, 2195, 2199, 2205, 2210, 2211, 2233, 2261, 2267, 2268, 2307, 2314, 2322, 2326, 2329, 2343, 2344, 2361, 2386, 2394, 2398, 2421, 2423, 2461, 2471, 2472, 2485, 2490, 2502, 2508, 2510, 2515, 2530, 2543, 2585, 2599, 2602, 2609, 2640, 2651, 2660, 2671, 2705, 2743, 2752, 2761, 2771, 2773, 2805, 2807, 2821, 2826, 2830, 2838, 2841, 2845, 2863, 2870, 2871, 2892, 2893, 2927, 2974, 2989, 2993, 3019, 3026, 3091, 3148, 3160, 3164, 3170, 3198, 3212, 3214, 3271, 3275, 3321, 3348, 3393, 3401, 3410, 3411, 3415, 3416, 3430, 3471, 3480, 3481, 3508, 3511, 3522, 3527, 3553, 3554, 3558, 3567, 3569, 3580, 3586, 3587, 3629, 3643, 3646, 3654, 3662, 3664, 3666, 3671, 3676, 3677, 3679, 3702, 3705, 3792, 3793, 3808, 3811, 3815, 3816, 3817, 3837, 3851, 3861, 3884, 3890, 3899, 3900, 3902, 3921, 3932, 3946, 3949, 3950, 3971, 3973, 3978, 3987, 3989]\n",
        "\n",
        "    image_data = np.delete(image_data, failed_to_crop, axis=0)\n",
        "    labels = np.delete(labels, failed_to_crop)\n",
        "\n",
        "    print(image_data.shape)\n",
        "    print(labels.shape)\n",
        "\n",
        "    return image_data, labels"
      ]
    },
    {
      "cell_type": "code",
      "execution_count": 11,
      "metadata": {
        "id": "wEVi5DCYDJzb"
      },
      "outputs": [],
      "source": [
        "def flatten_data(src_dir, labels_path, width, height):\n",
        "    image_files = sorted(os.listdir(src_dir))\n",
        "    labels = np.zeros(len(image_files))\n",
        "    images = []\n",
        "\n",
        "    standard_size = (100, 100)\n",
        "\n",
        "    for i, image_path in enumerate(image_files):\n",
        "         if image_path[-3:] == 'png':\n",
        "            # read image\n",
        "            curr_image = cv2.imread(os.path.join(src_dir, image_path)).astype('float32')\n",
        "            gray_image = cv2.cvtColor(curr_image, cv2.COLOR_BGR2GRAY)\n",
        "            resized = cv2.resize(gray_image, (width, height))\n",
        "            images.append(resized)\n",
        "\n",
        "\n",
        "    label_file = open(labels_path, \"r\")\n",
        "    for i, label in enumerate(label_file):\n",
        "        labels[i] = label.split()[0]\n",
        "    label_file.close()\n",
        "\n",
        "    failed_to_crop = [15, 18, 30, 39, 64, 81, 82, 86, 114, 125, 182, 207, 208, 216, 217, 241, 261, 264, 281, 295, 319, 330, 334, 352, 353, 354, 398, 399, 404, 410, 434, 437, 444, 453, 454, 466, 506, 540, 544, 549, 553, 587, 669, 672, 674, 675, 688, 694, 701, 703, 707, 710, 739, 752, 777, 782, 786, 822, 825, 829, 858, 873, 880, 881, 930, 941, 995, 1018, 1038, 1067, 1068, 1082, 1086, 1096, 1100, 1120, 1136, 1179, 1247, 1270, 1272, 1292, 1303, 1312, 1318, 1351, 1355, 1367, 1402, 1403, 1429, 1474, 1497, 1499, 1500, 1506, 1508, 1515, 1543, 1562, 1568, 1569, 1574, 1580, 1582, 1591, 1613, 1621, 1645, 1646, 1654, 1666, 1684, 1690, 1726, 1749, 1759, 1760, 1761, 1765, 1767, 1776, 1777, 1797, 1808, 1812, 1819, 1861, 1872, 1879, 1887, 1899, 1923, 1937, 1945, 1947, 1958, 1970, 1978, 1992, 2006, 2024, 2046, 2064, 2081, 2110, 2111, 2131, 2147, 2169, 2177, 2190, 2195, 2199, 2205, 2210, 2211, 2233, 2261, 2267, 2268, 2307, 2314, 2322, 2326, 2329, 2343, 2344, 2361, 2386, 2394, 2398, 2421, 2423, 2461, 2471, 2472, 2485, 2490, 2502, 2508, 2510, 2515, 2530, 2543, 2585, 2599, 2602, 2609, 2640, 2651, 2660, 2671, 2705, 2743, 2752, 2761, 2771, 2773, 2805, 2807, 2821, 2826, 2830, 2838, 2841, 2845, 2863, 2870, 2871, 2892, 2893, 2927, 2974, 2989, 2993, 3019, 3026, 3091, 3148, 3160, 3164, 3170, 3198, 3212, 3214, 3271, 3275, 3321, 3348, 3393, 3401, 3410, 3411, 3415, 3416, 3430, 3471, 3480, 3481, 3508, 3511, 3522, 3527, 3553, 3554, 3558, 3567, 3569, 3580, 3586, 3587, 3629, 3643, 3646, 3654, 3662, 3664, 3666, 3671, 3676, 3677, 3679, 3702, 3705, 3792, 3793, 3808, 3811, 3815, 3816, 3817, 3837, 3851, 3861, 3884, 3890, 3899, 3900, 3902, 3921, 3932, 3946, 3949, 3950, 3971, 3973, 3978, 3987, 3989]\n",
        "    images = np.array(images)\n",
        "    print(images.shape)\n",
        "    images = np.delete(images, failed_to_crop, axis=0)\n",
        "    labels = np.delete(labels, failed_to_crop)\n",
        "    print(images.shape)\n",
        "\n",
        "    num_images, width, height = images.shape\n",
        "\n",
        "    images_flat = images.reshape((num_images, height*width))\n",
        "\n",
        "    return images_flat, labels"
      ]
    },
    {
      "cell_type": "code",
      "execution_count": 12,
      "metadata": {
        "id": "DwrMs7n1EJ5_"
      },
      "outputs": [],
      "source": [
        "def perform_PCA(x_train):\n",
        "    pca_dims = PCA()\n",
        "    pca_dims.fit(x_train)\n",
        "    cumsum = np.cumsum(pca_dims.explained_variance_ratio_)\n",
        "    d = np.argmax(cumsum >= 0.95) + 1\n",
        "    pca = PCA(n_components=d)\n",
        "    return pca"
      ]
    },
    {
      "cell_type": "code",
      "execution_count": 13,
      "metadata": {
        "id": "yyeHYsC_ENBA"
      },
      "outputs": [],
      "source": [
        "def k_fold_cross_val(model, x, y, n_splits):\n",
        "    cv = KFold(n_splits=n_splits, shuffle=True)\n",
        "    scoring = {\n",
        "        'acc': 'accuracy',\n",
        "        'prec': 'precision',\n",
        "        'rec': 'recall',\n",
        "        'f1': 'f1',\n",
        "        'auc': 'roc_auc',\n",
        "    }\n",
        "    scores = cross_validate(model, x, y, scoring=scoring, cv=cv, n_jobs=-1)\n",
        "    mean_acc_test = scores['test_acc'].mean()\n",
        "    mean_prec_test = scores['test_prec'].mean()\n",
        "    mean_rec_test = scores['test_rec'].mean()\n",
        "    mean_f1_test = scores['test_f1'].mean()\n",
        "    mean_auc_test = scores['test_auc'].mean()\n",
        "    return mean_acc_test, mean_prec_test, mean_rec_test, mean_f1_test, mean_auc_test"
      ]
    },
    {
      "cell_type": "code",
      "execution_count": 14,
      "metadata": {
        "id": "Hd5SkHG5EQW_"
      },
      "outputs": [],
      "source": [
        "def train_test_split(data, labels):\n",
        "    \"\"\"\n",
        "    Split the data into training and testing data. 3/4 of the data for training and 1/4 for testing.\n",
        "    Shuffle the data so its randomized.\n",
        "    \"\"\"\n",
        "\n",
        "    shuffled_indices = [i for i in range(len(data))]\n",
        "    # print(shuffled_indices)\n",
        "    np.random.shuffle(shuffled_indices)\n",
        "\n",
        "    data = data[shuffled_indices]\n",
        "    labels = labels[shuffled_indices]\n",
        "\n",
        "    split = int(len(data) * 3/4)\n",
        "    x_train, x_test = data[:split], data[split:]\n",
        "    y_train, y_test = labels[:split], labels[split:]\n",
        "\n",
        "    return x_train, y_train, x_test, y_test"
      ]
    },
    {
      "cell_type": "code",
      "execution_count": 15,
      "metadata": {
        "id": "m7hGIPJtGopY"
      },
      "outputs": [],
      "source": [
        "def perform_gridsearch(model, parameters, x_train, y_train):\n",
        "  gridsearch = GridSearchCV(model, parameters)\n",
        "  gridsearch.fit(x_train, y_train)\n",
        "  return gridsearch.best_params_"
      ]
    },
    {
      "cell_type": "code",
      "execution_count": 16,
      "metadata": {
        "id": "I59u6ce_FFXW"
      },
      "outputs": [],
      "source": [
        "def score_report(classes, y_train_pred, y_train, y_test_pred, y_test):\n",
        "    print(\"----------- Training Set Report -----------\")\n",
        "    print(\"Accuracy\", accuracy_score(y_train, y_train_pred))\n",
        "    print(\"Precision\", precision_score(y_train, y_train_pred))\n",
        "    print(\"Recall\", recall_score(y_train, y_train_pred))\n",
        "    print(\"F1\", f1_score(y_train, y_train_pred))\n",
        "    print(\"AUC\", roc_auc_score(y_train, y_train_pred))\n",
        "    cm = confusion_matrix(y_train, y_train_pred, labels=classes)\n",
        "    print(\"Confusion matrix\", cm)\n",
        "    disp = ConfusionMatrixDisplay(confusion_matrix=cm, display_labels=classes)\n",
        "    disp.plot()\n",
        "    plt.show()\n",
        "    print(\"----------- Testing Set Report -----------\")\n",
        "    print(\"Accuracy\", accuracy_score(y_test, y_test_pred))\n",
        "    print(\"Precision\", precision_score(y_test, y_test_pred))\n",
        "    print(\"Recall\", recall_score(y_test, y_test_pred))\n",
        "    print(\"F1\", f1_score(y_test, y_test_pred))\n",
        "    print(\"AUC\", roc_auc_score(y_test, y_test_pred))\n",
        "    cm = confusion_matrix(y_test, y_test_pred, labels=classes)\n",
        "    print(\"Confusion matrix\", cm)\n",
        "    disp = ConfusionMatrixDisplay(confusion_matrix=cm, display_labels=classes)\n",
        "    disp.plot()\n",
        "    plt.show()"
      ]
    },
    {
      "cell_type": "code",
      "execution_count": 17,
      "metadata": {
        "id": "R8vi-0KPTaK8"
      },
      "outputs": [],
      "source": [
        "def generate_roc(model, x_test, y_test):\n",
        "  ax = plt.gca()\n",
        "  RocCurveDisplay.from_estimator(model, x_test, y_test, ax=ax, alpha=.8)\n",
        "  plt.title(\"ROC\")\n",
        "  plt.show()"
      ]
    },
    {
      "cell_type": "code",
      "execution_count": 18,
      "metadata": {
        "id": "5IeDZK5DFYa9"
      },
      "outputs": [],
      "source": [
        "def build_CNN_basic():\n",
        "    model = Sequential()\n",
        "    model.add(Conv2D(32, (3, 3), activation='relu', input_shape=(32, 32, 3)))\n",
        "    model.add(MaxPooling2D((2, 2)))\n",
        "    model.add(Dropout(0.25))\n",
        "    model.add(Conv2D(64, (3, 3), activation='relu'))\n",
        "    model.add(MaxPooling2D((2, 2)))\n",
        "    model.add(Dropout(0.25))\n",
        "    model.add(Conv2D(64, (3, 3), activation='relu'))\n",
        "    model.add(Flatten())\n",
        "    model.add(Dense(64, activation='relu'))\n",
        "    model.add(Dropout(0.25))\n",
        "    model.add(Dense(1, activation='sigmoid'))\n",
        "    print(model.summary())\n",
        "    return model"
      ]
    },
    {
      "cell_type": "code",
      "execution_count": 19,
      "metadata": {
        "id": "3NLLtXVFFco0"
      },
      "outputs": [],
      "source": [
        "def build_CNN_LeNet():\n",
        "    model = Sequential()\n",
        "    model.add(Conv2D(20, (5, 5), padding='same', strides=(1, 1), input_shape=(32, 32, 1)))\n",
        "    model.add(ELU())\n",
        "    model.add(BatchNormalization())\n",
        "    model.add(MaxPooling2D((2, 2), strides=(2, 2)))\n",
        "    model.add(Dropout(0.4))\n",
        "    model.add(Conv2D(50, (5, 5), padding='same', strides=(1, 1)))\n",
        "    model.add(ELU())\n",
        "    model.add(BatchNormalization())\n",
        "    model.add(MaxPooling2D((2, 2), strides=(2, 2)))\n",
        "    model.add(Dropout(0.4))\n",
        "    model.add(Flatten())\n",
        "    model.add(Dense(500))\n",
        "    model.add(ELU())\n",
        "    model.add(Dropout(0.4))\n",
        "    model.add(Dense(1, activation='sigmoid'))\n",
        "    print(model.summary())\n",
        "    return model"
      ]
    },
    {
      "cell_type": "code",
      "execution_count": 20,
      "metadata": {
        "id": "eNjq6pSaFe6e"
      },
      "outputs": [],
      "source": [
        "def build_CNN_AlexNet():\n",
        "    model = Sequential()\n",
        "    model.add(Conv2D(96, (11, 11), strides=(4, 4), activation='relu', input_shape=(227, 227, 3)))\n",
        "    model.add(BatchNormalization())\n",
        "    model.add(MaxPooling2D((3, 3), strides=(2, 2)))\n",
        "    model.add(Conv2D(256, (5, 5), strides=(1, 1), activation='relu', padding='same'))\n",
        "    model.add(BatchNormalization())\n",
        "    model.add(MaxPooling2D((3, 3), strides=(2, 2)))\n",
        "    model.add(Conv2D(384, (5, 5), strides=(1, 1), activation='relu', padding='same'))\n",
        "    model.add(BatchNormalization())\n",
        "    model.add(MaxPooling2D((3, 3), strides=(2, 2)))\n",
        "    model.add(Flatten())\n",
        "    model.add(Dense(4096, activation='relu'))\n",
        "    model.add(Dropout(0.5))\n",
        "    model.add(Dense(4096, activation='relu'))\n",
        "    model.add(Dropout(0.5))\n",
        "    model.add(Dense(1, activation='sigmoid'))\n",
        "    print(model.summary())\n",
        "    return model"
      ]
    },
    {
      "cell_type": "code",
      "source": [
        "def predict_label(y_pred):\n",
        "  return np.array([1 if predicted[0] > 0.5 else 0 for predicted in y_pred])"
      ],
      "metadata": {
        "id": "pV_u44KznR7o"
      },
      "execution_count": 21,
      "outputs": []
    },
    {
      "cell_type": "code",
      "source": [
        "original_source_dir = '/content/data/genki4k/files/original'\n",
        "cropped_dir = '/content/data/genki4k/files/cropped_faces1'\n",
        "labels_dir = '/content/data/genki4k/labels.txt'\n",
        "\n",
        "# Run this once\n",
        "# crop_faces(original_source_dir, cropped_dir)"
      ],
      "metadata": {
        "id": "1-xC0sDLb51p"
      },
      "execution_count": 19,
      "outputs": []
    },
    {
      "cell_type": "markdown",
      "metadata": {
        "id": "fE_EHCP_FpWr"
      },
      "source": [
        "RANDOM FOREST CLASSIFIER"
      ]
    },
    {
      "cell_type": "code",
      "execution_count": 22,
      "metadata": {
        "colab": {
          "base_uri": "https://localhost:8080/",
          "height": 0
        },
        "id": "Pj3jpU5FFoZT",
        "outputId": "adba096f-2c7e-4a3d-b1c7-c327b13a7608"
      },
      "outputs": [
        {
          "output_type": "stream",
          "name": "stdout",
          "text": [
            "Starting timer\n",
            "(4000, 100, 100)\n",
            "(3710, 100, 100)\n",
            "Processed data ran in 2.7583 seconds\n",
            "Train test split ran in 2.7940 seconds\n"
          ]
        }
      ],
      "source": [
        "print(\"Starting timer\")\n",
        "start = time.perf_counter()\n",
        "original_source_dir = '/content/data/genki4k/files/original'\n",
        "cropped_dir = '/content/data/genki4k/files/cropped_faces1'\n",
        "labels_dir = '/content/data/genki4k/labels.txt'\n",
        "\n",
        "IMAGE_RESCALE_SIZE = 100\n",
        "\n",
        "face_data, labels = flatten_data(cropped_dir, labels_dir, IMAGE_RESCALE_SIZE, IMAGE_RESCALE_SIZE)\n",
        "print(f\"Processed data ran in {time.perf_counter() - start:0.4f} seconds\")\n",
        "\n",
        "# # train-test split\n",
        "x_train, y_train, x_test, y_test = train_test_split(face_data, labels)\n",
        "print(f\"Train test split ran in {time.perf_counter() - start:0.4f} seconds\")\n",
        "\n",
        "# rfc_parameters = {\n",
        "#     'n_estimators': [50, 100, 200, 500],\n",
        "#     'max_features': ['auto', 'sqrt', 'log2'],\n",
        "#     'criterion': ['gini', 'entropy'],\n",
        "# }\n",
        "# rfc_best_params = perform_gridsearch(RandomForestClassifier(), rfc_parameters, x_train, y_train)\n",
        "# print(f\"RFC grid search cross validation ran in {time.perf_counter() - start:0.4f} seconds\")\n",
        "# print(rfc_best_params)"
      ]
    },
    {
      "cell_type": "code",
      "execution_count": 23,
      "metadata": {
        "id": "PYb5x5v4Hj-v",
        "colab": {
          "base_uri": "https://localhost:8080/",
          "height": 0
        },
        "outputId": "85085c9c-8099-4ce6-9b3c-80383d25b35a"
      },
      "outputs": [
        {
          "output_type": "stream",
          "name": "stdout",
          "text": [
            "--------- Random Forest Classifier ----------\n",
            "Mean test accuracy: 0.8153638814016173\n",
            "Mean test precision: 0.8274435380949839\n",
            "Mean test recall: 0.8338638324869875\n",
            "Mean test f1: 0.8303647203450637\n",
            "Mean test AUC: 0.9013152300803441\n",
            "\n",
            "\n"
          ]
        }
      ],
      "source": [
        "# K - fold cross validation\n",
        "rfc = RandomForestClassifier(criterion='entropy', max_features='auto', n_estimators=200)\n",
        "mean_acc_test, mean_prec_test, mean_rec_test, mean_f1_test, mean_auc_test = k_fold_cross_val(rfc, face_data, labels, 10)\n",
        "print('--------- Random Forest Classifier ----------')\n",
        "print(\"Mean test accuracy:\", mean_acc_test)\n",
        "print(\"Mean test precision:\", mean_prec_test)\n",
        "print(\"Mean test recall:\", mean_rec_test)\n",
        "print(\"Mean test f1:\", mean_f1_test)\n",
        "print(\"Mean test AUC:\", mean_auc_test)\n",
        "print('\\n')"
      ]
    },
    {
      "cell_type": "code",
      "source": [
        "print(\"Starting timer\")\n",
        "start = time.perf_counter()\n",
        "\n",
        "n_estimators = [1, 2, 4, 8, 16, 32, 64, 100, 200, 500, 1000]\n",
        "n_estimators_train_results = []\n",
        "n_estimators_test_results = []\n",
        "for estimator in n_estimators:\n",
        "   rf = RandomForestClassifier(n_estimators=estimator, n_jobs=-1)\n",
        "   rf.fit(x_train, y_train)\n",
        "   train_pred = rf.predict(x_train)\n",
        "   false_positive_rate, true_positive_rate, thresholds = roc_curve(y_train, train_pred)\n",
        "   roc_auc = auc(false_positive_rate, true_positive_rate)\n",
        "   n_estimators_train_results.append(roc_auc)\n",
        "   y_pred = rf.predict(x_test)\n",
        "   false_positive_rate, true_positive_rate, thresholds = roc_curve(y_test, y_pred)\n",
        "   roc_auc = auc(false_positive_rate, true_positive_rate)\n",
        "   n_estimators_test_results.append(roc_auc)\n",
        "\n",
        "   print(f\"N-estimators: {estimator} completed at {time.perf_counter() - start:0.4f} seconds\")\n",
        "\n",
        "from matplotlib.legend_handler import HandlerLine2D\n",
        "line1, = plt.plot(n_estimators, n_estimators_train_results, 'blue', label=\"Train AUC\")\n",
        "line2, = plt.plot(n_estimators, n_estimators_test_results, 'r', label=\"Test AUC\")\n",
        "plt.legend(handler_map={line1: HandlerLine2D(numpoints=2)})\n",
        "plt.ylabel('AUC score')\n",
        "plt.xlabel('n_estimators')\n",
        "plt.show()"
      ],
      "metadata": {
        "colab": {
          "base_uri": "https://localhost:8080/",
          "height": 488
        },
        "id": "eL83697Bs3A7",
        "outputId": "15b88d6b-565d-4713-ee59-1d2087d47bcd"
      },
      "execution_count": 24,
      "outputs": [
        {
          "output_type": "stream",
          "name": "stdout",
          "text": [
            "Starting timer\n",
            "N-estimators: 1 completed at 0.3793 seconds\n",
            "N-estimators: 2 completed at 1.0526 seconds\n",
            "N-estimators: 4 completed at 1.9255 seconds\n",
            "N-estimators: 8 completed at 3.5025 seconds\n",
            "N-estimators: 16 completed at 6.2808 seconds\n",
            "N-estimators: 32 completed at 11.4690 seconds\n",
            "N-estimators: 64 completed at 21.3830 seconds\n",
            "N-estimators: 100 completed at 36.5309 seconds\n",
            "N-estimators: 200 completed at 67.1593 seconds\n",
            "N-estimators: 500 completed at 141.9996 seconds\n",
            "N-estimators: 1000 completed at 293.0144 seconds\n"
          ]
        },
        {
          "output_type": "display_data",
          "data": {
            "text/plain": [
              "<Figure size 432x288 with 1 Axes>"
            ],
            "image/png": "[encoded data removed]"
          },
          "metadata": {
            "needs_background": "light"
          }
        }
      ]
    },
    {
      "cell_type": "code",
      "source": [
        "for i, test_result in enumerate(n_estimators_test_results):\n",
        "  print(f\"{n_estimators[i]}: {test_result}\")"
      ],
      "metadata": {
        "colab": {
          "base_uri": "https://localhost:8080/",
          "height": 0
        },
        "id": "8K0kUE1bv7SI",
        "outputId": "99c7a06c-5819-495b-c6e4-0bc5afd678cd"
      },
      "execution_count": 25,
      "outputs": [
        {
          "output_type": "stream",
          "name": "stdout",
          "text": [
            "1: 0.6043950921160588\n",
            "2: 0.6665734317893638\n",
            "4: 0.6857145520996495\n",
            "8: 0.743669351831133\n",
            "16: 0.7676680092488999\n",
            "32: 0.7984168717833967\n",
            "64: 0.7947434176176624\n",
            "100: 0.81201984038189\n",
            "200: 0.8106119937346163\n",
            "500: 0.8171011411948981\n",
            "1000: 0.8248676064742299\n"
          ]
        }
      ]
    },
    {
      "cell_type": "code",
      "source": [
        "print(\"Starting timer\")\n",
        "start = time.perf_counter()\n",
        "\n",
        "max_depths = np.linspace(1, 32, 32, endpoint=True)\n",
        "max_depth_train_results = []\n",
        "max_depth_test_results = []\n",
        "\n",
        "for max_depth in max_depths:\n",
        "   rf = RandomForestClassifier(max_depth=max_depth, n_jobs=-1)\n",
        "   rf.fit(x_train, y_train)\n",
        "   train_pred = rf.predict(x_train)\n",
        "   false_positive_rate, true_positive_rate, thresholds = roc_curve(y_train, train_pred)\n",
        "   roc_auc = auc(false_positive_rate, true_positive_rate)\n",
        "   max_depth_train_results.append(roc_auc)\n",
        "   y_pred = rf.predict(x_test)\n",
        "   false_positive_rate, true_positive_rate, thresholds = roc_curve(y_test, y_pred)\n",
        "   roc_auc = auc(false_positive_rate, true_positive_rate)\n",
        "   max_depth_test_results.append(roc_auc)\n",
        "   print(f\"Max Depth: {max_depth} completed at {time.perf_counter() - start:0.4f} seconds\")\n",
        "\n",
        "from matplotlib.legend_handler import HandlerLine2D\n",
        "line1, = plt.plot(max_depths, max_depth_train_results, 'b', label=\"Train AUC\")\n",
        "line2, = plt.plot(max_depths, max_depth_test_results, 'r', label=\"Test AUC\")\n",
        "plt.legend(handler_map={line1: HandlerLine2D(numpoints=2)})\n",
        "plt.ylabel('AUC score')\n",
        "plt.xlabel('Tree depth')\n",
        "plt.show()"
      ],
      "metadata": {
        "id": "3MV0N269umrR",
        "colab": {
          "base_uri": "https://localhost:8080/",
          "height": 852
        },
        "outputId": "5f8c2c79-312f-49a7-9c0d-19a2986ade67"
      },
      "execution_count": 26,
      "outputs": [
        {
          "output_type": "stream",
          "name": "stdout",
          "text": [
            "Starting timer\n",
            "Max Depth: 1.0 completed at 2.2414 seconds\n",
            "Max Depth: 2.0 completed at 5.8490 seconds\n",
            "Max Depth: 3.0 completed at 11.0645 seconds\n",
            "Max Depth: 4.0 completed at 17.5813 seconds\n",
            "Max Depth: 5.0 completed at 25.3963 seconds\n",
            "Max Depth: 6.0 completed at 34.7235 seconds\n",
            "Max Depth: 7.0 completed at 45.3552 seconds\n",
            "Max Depth: 8.0 completed at 56.9935 seconds\n",
            "Max Depth: 9.0 completed at 69.5339 seconds\n",
            "Max Depth: 10.0 completed at 82.7701 seconds\n",
            "Max Depth: 11.0 completed at 96.5094 seconds\n",
            "Max Depth: 12.0 completed at 110.7443 seconds\n",
            "Max Depth: 13.0 completed at 125.0769 seconds\n",
            "Max Depth: 14.0 completed at 140.0125 seconds\n",
            "Max Depth: 15.0 completed at 154.9619 seconds\n",
            "Max Depth: 16.0 completed at 169.9050 seconds\n",
            "Max Depth: 17.0 completed at 185.3585 seconds\n",
            "Max Depth: 18.0 completed at 200.5929 seconds\n",
            "Max Depth: 19.0 completed at 215.9328 seconds\n",
            "Max Depth: 20.0 completed at 231.3830 seconds\n",
            "Max Depth: 21.0 completed at 246.9287 seconds\n",
            "Max Depth: 22.0 completed at 262.2874 seconds\n",
            "Max Depth: 23.0 completed at 277.5336 seconds\n",
            "Max Depth: 24.0 completed at 292.6687 seconds\n",
            "Max Depth: 25.0 completed at 308.0110 seconds\n",
            "Max Depth: 26.0 completed at 323.5576 seconds\n",
            "Max Depth: 27.0 completed at 339.0000 seconds\n",
            "Max Depth: 28.0 completed at 354.5501 seconds\n",
            "Max Depth: 29.0 completed at 369.5902 seconds\n",
            "Max Depth: 30.0 completed at 384.8470 seconds\n",
            "Max Depth: 31.0 completed at 399.9025 seconds\n",
            "Max Depth: 32.0 completed at 415.0522 seconds\n"
          ]
        },
        {
          "output_type": "display_data",
          "data": {
            "text/plain": [
              "<Figure size 432x288 with 1 Axes>"
            ],
            "image/png": "[encoded data removed]"
          },
          "metadata": {
            "needs_background": "light"
          }
        }
      ]
    },
    {
      "cell_type": "code",
      "source": [
        "for i, test_result in enumerate(max_depth_test_results):\n",
        "  print(f\"{max_depths[i]}: Train AUC {max_depth_train_results[i]}, TEST AUC: {test_result}\")"
      ],
      "metadata": {
        "id": "8yzGfQhGxyWU",
        "colab": {
          "base_uri": "https://localhost:8080/",
          "height": 0
        },
        "outputId": "540c5844-c556-4ad2-bb8a-fea9ad4da472"
      },
      "execution_count": 27,
      "outputs": [
        {
          "output_type": "stream",
          "name": "stdout",
          "text": [
            "1.0: Train AUC 0.6189057660112378, TEST AUC: 0.6075371074811665\n",
            "2.0: Train AUC 0.6616035299619757, TEST AUC: 0.6480383381815469\n",
            "3.0: Train AUC 0.7396483593945924, TEST AUC: 0.7040165585142091\n",
            "4.0: Train AUC 0.8153852931806937, TEST AUC: 0.7329193704781085\n",
            "5.0: Train AUC 0.8711543545009048, TEST AUC: 0.7652625494144849\n",
            "6.0: Train AUC 0.9203182930383564, TEST AUC: 0.7869210114119489\n",
            "7.0: Train AUC 0.9645105973416837, TEST AUC: 0.7998993063325128\n",
            "8.0: Train AUC 0.9846445298467503, TEST AUC: 0.7911165808905796\n",
            "9.0: Train AUC 0.9914326575706434, TEST AUC: 0.798258372491982\n",
            "10.0: Train AUC 0.9977564949809201, TEST AUC: 0.8005519504736333\n",
            "11.0: Train AUC 0.9992747581962491, TEST AUC: 0.8162154098605207\n",
            "12.0: Train AUC 1.0, TEST AUC: 0.8026124412620272\n",
            "13.0: Train AUC 0.999603489294211, TEST AUC: 0.8112646378757365\n",
            "14.0: Train AUC 1.0, TEST AUC: 0.8129055717162676\n",
            "15.0: Train AUC 1.0, TEST AUC: 0.8001883344521519\n",
            "16.0: Train AUC 1.0, TEST AUC: 0.8075632132468114\n",
            "17.0: Train AUC 1.0, TEST AUC: 0.8084489445811889\n",
            "18.0: Train AUC 1.0, TEST AUC: 0.8028455284552846\n",
            "19.0: Train AUC 1.0, TEST AUC: 0.8111341090475126\n",
            "20.0: Train AUC 1.0, TEST AUC: 0.8079547997314837\n",
            "21.0: Train AUC 1.0, TEST AUC: 0.810248377713135\n",
            "22.0: Train AUC 1.0, TEST AUC: 0.8191616319832923\n",
            "23.0: Train AUC 1.0, TEST AUC: 0.8057917505780563\n",
            "24.0: Train AUC 1.0, TEST AUC: 0.8064164242559855\n",
            "25.0: Train AUC 1.0, TEST AUC: 0.8163459386887446\n",
            "26.0: Train AUC 1.0, TEST AUC: 0.8118893115536658\n",
            "27.0: Train AUC 1.0, TEST AUC: 0.8165044379801596\n",
            "28.0: Train AUC 1.0, TEST AUC: 0.8013351234429774\n",
            "29.0: Train AUC 1.0, TEST AUC: 0.8242429327963005\n",
            "30.0: Train AUC 1.0, TEST AUC: 0.8122808980383381\n",
            "31.0: Train AUC 1.0, TEST AUC: 0.8024819124338032\n",
            "32.0: Train AUC 1.0, TEST AUC: 0.818247930185724\n"
          ]
        }
      ]
    },
    {
      "cell_type": "code",
      "execution_count": 28,
      "metadata": {
        "id": "Gx7xNPMEIMyO",
        "colab": {
          "base_uri": "https://localhost:8080/",
          "height": 1131
        },
        "outputId": "87cdc5fd-ce3f-41dc-f4ca-117859e51a54"
      },
      "outputs": [
        {
          "output_type": "stream",
          "name": "stdout",
          "text": [
            "Starting timer\n",
            "----------- Training Set Report -----------\n",
            "Accuracy 1.0\n",
            "Precision 1.0\n",
            "Recall 1.0\n",
            "F1 1.0\n",
            "AUC 1.0\n",
            "Confusion matrix [[1261    0]\n",
            " [   0 1521]]\n"
          ]
        },
        {
          "output_type": "display_data",
          "data": {
            "text/plain": [
              "<Figure size 432x288 with 2 Axes>"
            ],
            "image/png": "[encoded data removed]"
          },
          "metadata": {
            "needs_background": "light"
          }
        },
        {
          "output_type": "stream",
          "name": "stdout",
          "text": [
            "----------- Testing Set Report -----------\n",
            "Accuracy 0.8200431034482759\n",
            "Precision 0.8048780487804879\n",
            "Recall 0.8719512195121951\n",
            "F1 0.8370731707317074\n",
            "AUC 0.816709554710226\n",
            "Confusion matrix [[332 104]\n",
            " [ 63 429]]\n"
          ]
        },
        {
          "output_type": "display_data",
          "data": {
            "text/plain": [
              "<Figure size 432x288 with 2 Axes>"
            ],
            "image/png": "[encoded data removed]"
          },
          "metadata": {
            "needs_background": "light"
          }
        },
        {
          "output_type": "display_data",
          "data": {
            "text/plain": [
              "<Figure size 432x288 with 1 Axes>"
            ],
            "image/png": "[encoded data removed]"
          },
          "metadata": {
            "needs_background": "light"
          }
        },
        {
          "output_type": "stream",
          "name": "stdout",
          "text": [
            "Ran in 67.4954 seconds\n"
          ]
        }
      ],
      "source": [
        "print(\"Starting timer\")\n",
        "start = time.perf_counter()\n",
        "\n",
        "# Full score report\n",
        "rfc = RandomForestClassifier(criterion='entropy', max_features='auto', n_estimators=200, max_depth=11)\n",
        "rfc.fit(x_train, y_train)\n",
        "y_train_pred = rfc.predict(x_train)\n",
        "y_test_pred = rfc.predict(x_test)\n",
        "score_report(rfc.classes_, y_train_pred, y_train, y_test_pred, y_test)\n",
        "generate_roc(rfc, x_test, y_test)\n",
        "\n",
        "print(f\"Ran in {time.perf_counter() - start:0.4f} seconds\")"
      ]
    },
    {
      "cell_type": "code",
      "execution_count": 29,
      "metadata": {
        "id": "wJY5pvWBITR2",
        "colab": {
          "base_uri": "https://localhost:8080/",
          "height": 263
        },
        "outputId": "7b56c4cd-fb17-42c1-b77d-ef1025185e97"
      },
      "outputs": [
        {
          "output_type": "display_data",
          "data": {
            "text/plain": [
              "<Figure size 288x288 with 2 Axes>"
            ],
            "image/png": "[encoded data removed]"
          },
          "metadata": {
            "needs_background": "light"
          }
        }
      ],
      "source": [
        "# Feature importance\n",
        "img_shape = (IMAGE_RESCALE_SIZE, IMAGE_RESCALE_SIZE)\n",
        "\n",
        "importances = rfc.feature_importances_\n",
        "imp_reshaped = importances.reshape(img_shape)\n",
        "plt.matshow(imp_reshaped, cmap=plt.cm.hot)\n",
        "plt.title(\"Pixel importances using impurity values\")\n",
        "plt.colorbar()\n",
        "plt.show()"
      ]
    },
    {
      "cell_type": "markdown",
      "source": [
        "SVC MODEL"
      ],
      "metadata": {
        "id": "5sTc2MQjpEQr"
      }
    },
    {
      "cell_type": "code",
      "source": [
        "print(\"Starting timer\")\n",
        "start = time.perf_counter()\n",
        "\n",
        "original_source_dir = '/content/data/genki4k/files/original'\n",
        "cropped_dir = '/content/data/genki4k/files/cropped_faces1'\n",
        "labels_dir = '/content/data/genki4k/labels.txt'\n",
        "\n",
        "IMAGE_RESCALE_SIZE = 100\n",
        "\n",
        "# read in the face data\n",
        "face_data, labels = flatten_data(cropped_dir, labels_dir, IMAGE_RESCALE_SIZE, IMAGE_RESCALE_SIZE)\n",
        "print(f\"Processed data ran in {time.perf_counter() - start:0.4f} seconds\")\n",
        "\n",
        "# # train-test split\n",
        "x_train, y_train, x_test, y_test = train_test_split(face_data, labels)\n",
        "print(f\"Train test split ran in {time.perf_counter() - start:0.4f} seconds\")\n",
        "\n",
        "# initialize support vector classifer model\n",
        "svc = SVC(kernel='rbf', probability=False, C=10)"
      ],
      "metadata": {
        "id": "OlghkBiopA-H",
        "colab": {
          "base_uri": "https://localhost:8080/"
        },
        "outputId": "3a1950f2-d8c1-466f-fbb4-af94ef774d96"
      },
      "execution_count": 22,
      "outputs": [
        {
          "output_type": "stream",
          "name": "stdout",
          "text": [
            "Starting timer\n",
            "(4000, 100, 100)\n",
            "(3710, 100, 100)\n",
            "Processed data ran in 2.6704 seconds\n",
            "Train test split ran in 2.7082 seconds\n"
          ]
        }
      ]
    },
    {
      "cell_type": "code",
      "source": [
        "print(\"Starting timer\")\n",
        "start = time.perf_counter()\n",
        "parameters = {'kernel':('linear', 'rbf'), 'C':[1, 10]}\n",
        "\n",
        "svc_best_params = perform_gridsearch(svc, parameters, x_train, y_train)\n",
        "print(f\"SVC grid search cross validation ran in {time.perf_counter() - start:0.4f} seconds\")\n",
        "print(svc_best_params)"
      ],
      "metadata": {
        "id": "v3sZtsDr1Q7p",
        "colab": {
          "base_uri": "https://localhost:8080/",
          "height": 0
        },
        "outputId": "08463cf4-3d56-4f1a-bd70-6b20833bec36"
      },
      "execution_count": 31,
      "outputs": [
        {
          "output_type": "stream",
          "name": "stdout",
          "text": [
            "Starting timer\n",
            "SVC grid search cross validation ran in 854.4696 seconds\n",
            "{'C': 10, 'kernel': 'rbf'}\n"
          ]
        }
      ]
    },
    {
      "cell_type": "code",
      "source": [
        "mean_acc_test, mean_prec_test, mean_rec_test, mean_f1_test, mean_auc_test = k_fold_cross_val(svc, face_data, labels, 10)\n",
        "print('--------- Support Vector Classifier ----------')\n",
        "print(\"Mean test accuracy:\", mean_acc_test)\n",
        "print(\"Mean test precision:\", mean_prec_test)\n",
        "print(\"Mean test recall:\", mean_rec_test)\n",
        "print(\"Mean test f1:\", mean_f1_test)\n",
        "print(\"Mean test AUC:\", mean_auc_test)\n",
        "print('\\n')"
      ],
      "metadata": {
        "id": "eOTz0-301bii",
        "colab": {
          "base_uri": "https://localhost:8080/"
        },
        "outputId": "6872d032-96fe-4ece-e9c2-f507ccc9c45d"
      },
      "execution_count": 25,
      "outputs": [
        {
          "output_type": "stream",
          "name": "stderr",
          "text": [
            "/usr/local/lib/python3.7/dist-packages/joblib/externals/loky/process_executor.py:705: UserWarning: A worker stopped while some jobs were given to the executor. This can be caused by a too short worker timeout or by a memory leak.\n",
            "  \"timeout or by a memory leak.\", UserWarning\n"
          ]
        },
        {
          "output_type": "stream",
          "name": "stdout",
          "text": [
            "--------- Support Vector Classifier ----------\n",
            "Mean test accuracy: 0.8107816711590298\n",
            "Mean test precision: 0.824234474633428\n",
            "Mean test recall: 0.8274857540270792\n",
            "Mean test f1: 0.8253450981611312\n",
            "Mean test AUC: 0.8922840601334701\n",
            "\n",
            "\n"
          ]
        }
      ]
    },
    {
      "cell_type": "code",
      "source": [
        "# Score report\n",
        "svc.fit(x_train, y_train)\n",
        "y_train_pred = svc.predict(x_train)\n",
        "y_test_pred = svc.predict(x_test)\n",
        "score_report(svc.classes_, y_train_pred, y_train, y_test_pred, y_test)\n",
        "generate_roc(svc, x_test, y_test)"
      ],
      "metadata": {
        "id": "PXyO7E631UZ_",
        "colab": {
          "base_uri": "https://localhost:8080/",
          "height": 1000
        },
        "outputId": "984ca8dd-7b44-4123-deec-42c387462dbe"
      },
      "execution_count": 24,
      "outputs": [
        {
          "output_type": "stream",
          "name": "stdout",
          "text": [
            "----------- Training Set Report -----------\n",
            "Accuracy 0.9949676491732566\n",
            "Precision 0.9973154362416108\n",
            "Recall 0.9933155080213903\n",
            "F1 0.9953114534494307\n",
            "AUC 0.9951025440573514\n",
            "Confusion matrix [[1282    4]\n",
            " [  10 1486]]\n"
          ]
        },
        {
          "output_type": "display_data",
          "data": {
            "text/plain": [
              "<Figure size 432x288 with 2 Axes>"
            ],
            "image/png": "[encoded data removed]"
          },
          "metadata": {
            "needs_background": "light"
          }
        },
        {
          "output_type": "stream",
          "name": "stdout",
          "text": [
            "----------- Testing Set Report -----------\n",
            "Accuracy 0.8178879310344828\n",
            "Precision 0.8320610687022901\n",
            "Recall 0.8433268858800773\n",
            "F1 0.8376560999039384\n",
            "AUC 0.8146074818694791\n",
            "Confusion matrix [[323  88]\n",
            " [ 81 436]]\n"
          ]
        },
        {
          "output_type": "display_data",
          "data": {
            "text/plain": [
              "<Figure size 432x288 with 2 Axes>"
            ],
            "image/png": "[encoded data removed]"
          },
          "metadata": {
            "needs_background": "light"
          }
        },
        {
          "output_type": "display_data",
          "data": {
            "text/plain": [
              "<Figure size 432x288 with 1 Axes>"
            ],
            "image/png": "[encoded data removed]"
          },
          "metadata": {
            "needs_background": "light"
          }
        }
      ]
    },
    {
      "cell_type": "markdown",
      "metadata": {
        "id": "Sf_6CFU8Tqtf"
      },
      "source": [
        "MLP (MultiLayerPerceptron) Classifier"
      ]
    },
    {
      "cell_type": "code",
      "execution_count": 35,
      "metadata": {
        "id": "p_pEpztuUlbF",
        "colab": {
          "base_uri": "https://localhost:8080/",
          "height": 0
        },
        "outputId": "c647f311-2bc0-4625-cd82-361c2b034a1f"
      },
      "outputs": [
        {
          "output_type": "stream",
          "name": "stdout",
          "text": [
            "Starting timer\n",
            "(4000, 100, 100)\n",
            "(3710, 100, 100)\n",
            "Processed data ran in 4.4762 seconds\n",
            "Train test split ran in 4.5177 seconds\n"
          ]
        },
        {
          "output_type": "stream",
          "name": "stderr",
          "text": [
            "/usr/local/lib/python3.7/dist-packages/sklearn/neural_network/_multilayer_perceptron.py:696: ConvergenceWarning: Stochastic Optimizer: Maximum iterations (200) reached and the optimization hasn't converged yet.\n",
            "  ConvergenceWarning,\n"
          ]
        },
        {
          "output_type": "stream",
          "name": "stdout",
          "text": [
            "MLP Classifier grid search cross validation ran in 416.6903 seconds\n",
            "{'alpha': 0.0001, 'hidden_layer_sizes': (20, 20, 20), 'solver': 'adam'}\n"
          ]
        }
      ],
      "source": [
        "print(\"Starting timer\")\n",
        "start = time.perf_counter()\n",
        "original_source_dir = '/content/data/genki4k/files/original'\n",
        "cropped_dir = '/content/data/genki4k/files/cropped_faces1'\n",
        "labels_dir = '/content/data/genki4k/labels.txt'\n",
        "\n",
        "IMAGE_RESCALE_SIZE = 100\n",
        "\n",
        "face_data, labels = flatten_data(cropped_dir, labels_dir, IMAGE_RESCALE_SIZE, IMAGE_RESCALE_SIZE)\n",
        "print(f\"Processed data ran in {time.perf_counter() - start:0.4f} seconds\")\n",
        "\n",
        "# # train-test split\n",
        "x_train, y_train, x_test, y_test = train_test_split(face_data, labels)\n",
        "print(f\"Train test split ran in {time.perf_counter() - start:0.4f} seconds\")\n",
        "\n",
        "mlp_parameters = {\n",
        "    'hidden_layer_sizes': [(10,30,10),(20,20,20)],\n",
        "    'solver': ['sgd', 'adam'],\n",
        "    'alpha': [1e-5, 0.0001, 0.001],\n",
        "}\n",
        "mlp_best_params = perform_gridsearch(MLPClassifier(), mlp_parameters, x_train, y_train)\n",
        "print(f\"MLP Classifier grid search cross validation ran in {time.perf_counter() - start:0.4f} seconds\")\n",
        "print(mlp_best_params)"
      ]
    },
    {
      "cell_type": "code",
      "execution_count": 36,
      "metadata": {
        "id": "ku0M-Kr6NZwe",
        "colab": {
          "base_uri": "https://localhost:8080/",
          "height": 0
        },
        "outputId": "60dbd707-0656-4d61-86c8-ab74171a9d2a"
      },
      "outputs": [
        {
          "output_type": "stream",
          "name": "stdout",
          "text": [
            "-------- MLP Classifier -------\n",
            "Mean test accuracy: 0.7409703504043128\n",
            "Mean test precision: 0.7484961055935326\n",
            "Mean test recall: 0.8315734787411317\n",
            "Mean test f1: 0.7745625129361693\n",
            "Mean test AUC: 0.851499437791792\n",
            "\n",
            "\n"
          ]
        }
      ],
      "source": [
        "mlp = MLPClassifier(solver='adam', alpha=0.001, hidden_layer_sizes=(20, 20, 20))\n",
        "mean_acc_test, mean_prec_test, mean_rec_test, mean_f1_test, mean_auc_test = k_fold_cross_val(mlp, face_data, labels, 5)\n",
        "print('-------- MLP Classifier -------')\n",
        "print(\"Mean test accuracy:\", mean_acc_test)\n",
        "print(\"Mean test precision:\", mean_prec_test)\n",
        "print(\"Mean test recall:\", mean_rec_test)\n",
        "print(\"Mean test f1:\", mean_f1_test)\n",
        "print(\"Mean test AUC:\", mean_auc_test)\n",
        "print('\\n')"
      ]
    },
    {
      "cell_type": "code",
      "execution_count": 37,
      "metadata": {
        "id": "ghD2-TNaNhYj",
        "colab": {
          "base_uri": "https://localhost:8080/",
          "height": 1114
        },
        "outputId": "38a5193a-67c0-4b47-aab3-5a1d271ddce5"
      },
      "outputs": [
        {
          "output_type": "stream",
          "name": "stdout",
          "text": [
            "----------- Training Set Report -----------\n",
            "Accuracy 0.8544212796549245\n",
            "Precision 0.863837872070931\n",
            "Recall 0.8777348777348777\n",
            "F1 0.870730928822215\n",
            "AUC 0.851326722255061\n",
            "Confusion matrix [[1013  215]\n",
            " [ 190 1364]]\n"
          ]
        },
        {
          "output_type": "display_data",
          "data": {
            "text/plain": [
              "<Figure size 432x288 with 2 Axes>"
            ],
            "image/png": "[encoded data removed]"
          },
          "metadata": {
            "needs_background": "light"
          }
        },
        {
          "output_type": "stream",
          "name": "stdout",
          "text": [
            "----------- Testing Set Report -----------\n",
            "Accuracy 0.7952586206896551\n",
            "Precision 0.7717171717171717\n",
            "Recall 0.8322440087145969\n",
            "F1 0.8008385744234799\n",
            "AUC 0.7956529212016481\n",
            "Confusion matrix [[356 113]\n",
            " [ 77 382]]\n"
          ]
        },
        {
          "output_type": "display_data",
          "data": {
            "text/plain": [
              "<Figure size 432x288 with 2 Axes>"
            ],
            "image/png": "[encoded data removed]"
          },
          "metadata": {
            "needs_background": "light"
          }
        },
        {
          "output_type": "display_data",
          "data": {
            "text/plain": [
              "<Figure size 432x288 with 1 Axes>"
            ],
            "image/png": "[encoded data removed]"
          },
          "metadata": {
            "needs_background": "light"
          }
        },
        {
          "output_type": "stream",
          "name": "stdout",
          "text": [
            "[0. 1.]\n"
          ]
        }
      ],
      "source": [
        "mlp = MLPClassifier(solver='adam', alpha=0.001, hidden_layer_sizes=(20, 20, 20))\n",
        "mlp.fit(x_train, y_train)\n",
        "y_train_pred = mlp.predict(x_train)\n",
        "y_test_pred = mlp.predict(x_test)\n",
        "score_report(mlp.classes_, y_train_pred, y_train, y_test_pred, y_test)\n",
        "generate_roc(mlp, x_test, y_test)\n",
        "print(mlp.classes_)"
      ]
    },
    {
      "cell_type": "markdown",
      "metadata": {
        "id": "nDoR9H4lNwNT"
      },
      "source": [
        "Convolutional Neural Networks"
      ]
    },
    {
      "cell_type": "code",
      "execution_count": 49,
      "metadata": {
        "id": "J2_2BRaLNx2x",
        "colab": {
          "base_uri": "https://localhost:8080/",
          "height": 2508
        },
        "outputId": "78034892-ee99-4f83-c79f-59fa1564453b"
      },
      "outputs": [
        {
          "output_type": "stream",
          "name": "stdout",
          "text": [
            "Starting timer\n",
            "(3710, 32, 32, 3)\n",
            "(3710,)\n",
            "Processed data ran in 2.3882 seconds\n",
            "Train test split ran in 2.4042 seconds\n",
            "Model: \"sequential_2\"\n",
            "_________________________________________________________________\n",
            " Layer (type)                Output Shape              Param #   \n",
            "=================================================================\n",
            " conv2d_6 (Conv2D)           (None, 30, 30, 32)        896       \n",
            "                                                                 \n",
            " max_pooling2d_4 (MaxPooling  (None, 15, 15, 32)       0         \n",
            " 2D)                                                             \n",
            "                                                                 \n",
            " dropout_6 (Dropout)         (None, 15, 15, 32)        0         \n",
            "                                                                 \n",
            " conv2d_7 (Conv2D)           (None, 13, 13, 64)        18496     \n",
            "                                                                 \n",
            " max_pooling2d_5 (MaxPooling  (None, 6, 6, 64)         0         \n",
            " 2D)                                                             \n",
            "                                                                 \n",
            " dropout_7 (Dropout)         (None, 6, 6, 64)          0         \n",
            "                                                                 \n",
            " conv2d_8 (Conv2D)           (None, 4, 4, 64)          36928     \n",
            "                                                                 \n",
            " flatten_2 (Flatten)         (None, 1024)              0         \n",
            "                                                                 \n",
            " dense_4 (Dense)             (None, 64)                65600     \n",
            "                                                                 \n",
            " dropout_8 (Dropout)         (None, 64)                0         \n",
            "                                                                 \n",
            " dense_5 (Dense)             (None, 1)                 65        \n",
            "                                                                 \n",
            "=================================================================\n",
            "Total params: 121,985\n",
            "Trainable params: 121,985\n",
            "Non-trainable params: 0\n",
            "_________________________________________________________________\n",
            "None\n",
            "Epoch 1/20\n",
            "87/87 [==============================] - 8s 84ms/step - loss: 3.4851 - accuracy: 0.5216 - val_loss: 0.6867 - val_accuracy: 0.5668\n",
            "Epoch 2/20\n",
            "87/87 [==============================] - 7s 84ms/step - loss: 0.6966 - accuracy: 0.5467 - val_loss: 0.6876 - val_accuracy: 0.5593\n",
            "Epoch 3/20\n",
            "87/87 [==============================] - 6s 67ms/step - loss: 0.6911 - accuracy: 0.5410 - val_loss: 0.6818 - val_accuracy: 0.5593\n",
            "Epoch 4/20\n",
            "87/87 [==============================] - 5s 55ms/step - loss: 0.6836 - accuracy: 0.5457 - val_loss: 0.6764 - val_accuracy: 0.5744\n",
            "Epoch 5/20\n",
            "87/87 [==============================] - 5s 53ms/step - loss: 0.6786 - accuracy: 0.5661 - val_loss: 0.6661 - val_accuracy: 0.6034\n",
            "Epoch 6/20\n",
            "87/87 [==============================] - 5s 54ms/step - loss: 0.6680 - accuracy: 0.5873 - val_loss: 0.6370 - val_accuracy: 0.6336\n",
            "Epoch 7/20\n",
            "87/87 [==============================] - 5s 53ms/step - loss: 0.6567 - accuracy: 0.6147 - val_loss: 0.6456 - val_accuracy: 0.7522\n",
            "Epoch 8/20\n",
            "87/87 [==============================] - 5s 54ms/step - loss: 0.6541 - accuracy: 0.6287 - val_loss: 0.6680 - val_accuracy: 0.6659\n",
            "Epoch 9/20\n",
            "87/87 [==============================] - 5s 53ms/step - loss: 0.6314 - accuracy: 0.6463 - val_loss: 0.5781 - val_accuracy: 0.6897\n",
            "Epoch 10/20\n",
            "87/87 [==============================] - 5s 55ms/step - loss: 0.5978 - accuracy: 0.6916 - val_loss: 0.5197 - val_accuracy: 0.7834\n",
            "Epoch 11/20\n",
            "87/87 [==============================] - 5s 54ms/step - loss: 0.5329 - accuracy: 0.7430 - val_loss: 0.4483 - val_accuracy: 0.8017\n",
            "Epoch 12/20\n",
            "87/87 [==============================] - 5s 55ms/step - loss: 0.4860 - accuracy: 0.7771 - val_loss: 0.4157 - val_accuracy: 0.8200\n",
            "Epoch 13/20\n",
            "87/87 [==============================] - 5s 54ms/step - loss: 0.4498 - accuracy: 0.8019 - val_loss: 0.3536 - val_accuracy: 0.8545\n",
            "Epoch 14/20\n",
            "87/87 [==============================] - 5s 58ms/step - loss: 0.4188 - accuracy: 0.8055 - val_loss: 0.3970 - val_accuracy: 0.8362\n",
            "Epoch 15/20\n",
            "87/87 [==============================] - 5s 54ms/step - loss: 0.4066 - accuracy: 0.8163 - val_loss: 0.3196 - val_accuracy: 0.8631\n",
            "Epoch 16/20\n",
            "87/87 [==============================] - 5s 53ms/step - loss: 0.3819 - accuracy: 0.8329 - val_loss: 0.3654 - val_accuracy: 0.8524\n",
            "Epoch 17/20\n",
            "87/87 [==============================] - 5s 53ms/step - loss: 0.3781 - accuracy: 0.8318 - val_loss: 0.3097 - val_accuracy: 0.8739\n",
            "Epoch 18/20\n",
            "87/87 [==============================] - 5s 60ms/step - loss: 0.3662 - accuracy: 0.8379 - val_loss: 0.3015 - val_accuracy: 0.8631\n",
            "Epoch 19/20\n",
            "87/87 [==============================] - 5s 53ms/step - loss: 0.3508 - accuracy: 0.8523 - val_loss: 0.3402 - val_accuracy: 0.8491\n",
            "Epoch 20/20\n",
            "87/87 [==============================] - 5s 53ms/step - loss: 0.3643 - accuracy: 0.8444 - val_loss: 0.3257 - val_accuracy: 0.8621\n"
          ]
        },
        {
          "output_type": "display_data",
          "data": {
            "text/plain": [
              "<Figure size 432x288 with 1 Axes>"
            ],
            "image/png": "[encoded data removed]"
          },
          "metadata": {
            "needs_background": "light"
          }
        },
        {
          "output_type": "stream",
          "name": "stdout",
          "text": [
            "29/29 - 0s - loss: 0.3257 - accuracy: 0.8621 - 398ms/epoch - 14ms/step\n",
            "Loss on test set - BASIC CNN  0.3257095515727997\n",
            "Test accuracy - BASIC CNN  0.8620689511299133\n",
            "----------- Training Set Report -----------\n",
            "Accuracy 0.8856937455068297\n",
            "Precision 0.8912326961107448\n",
            "Recall 0.8983388704318936\n",
            "F1 0.8947716743878225\n",
            "AUC 0.8845648933208802\n",
            "Confusion matrix [[1112  165]\n",
            " [ 153 1352]]\n"
          ]
        },
        {
          "output_type": "display_data",
          "data": {
            "text/plain": [
              "<Figure size 432x288 with 2 Axes>"
            ],
            "image/png": "[encoded data removed]"
          },
          "metadata": {
            "needs_background": "light"
          }
        },
        {
          "output_type": "stream",
          "name": "stdout",
          "text": [
            "----------- Testing Set Report -----------\n",
            "Accuracy 0.8620689655172413\n",
            "Precision 0.87109375\n",
            "Recall 0.8779527559055118\n",
            "F1 0.8745098039215686\n",
            "AUC 0.8604049493813273\n",
            "Confusion matrix [[354  66]\n",
            " [ 62 446]]\n"
          ]
        },
        {
          "output_type": "display_data",
          "data": {
            "text/plain": [
              "<Figure size 432x288 with 2 Axes>"
            ],
            "image/png": "[encoded data removed]"
          },
          "metadata": {
            "needs_background": "light"
          }
        }
      ],
      "source": [
        "# Basic CNN Model\n",
        "print(\"Starting timer\")\n",
        "start = time.perf_counter()\n",
        "\n",
        "original_source_dir = '/content/data/genki4k/files/original'\n",
        "source_dir = '/content/data/genki4k/files/cropped_faces1'\n",
        "cropped_dir = '/content/data/genki4k/files/cropped_faces1'\n",
        "labels_dir = '/content/data/genki4k/labels.txt'\n",
        "\n",
        "# read in the face data\n",
        "face_data, labels = process_data(cropped_dir, labels_dir, 32)\n",
        "print(f\"Processed data ran in {time.perf_counter() - start:0.4f} seconds\")\n",
        "\n",
        "# # train-test split\n",
        "x_train, y_train, x_test, y_test = train_test_split(face_data, labels)\n",
        "print(f\"Train test split ran in {time.perf_counter() - start:0.4f} seconds\")\n",
        "\n",
        "basic_CNN_model = build_CNN_basic()\n",
        "basic_CNN_model.compile(optimizer='adam', loss=tf.keras.losses.BinaryCrossentropy(from_logits=False), metrics=['accuracy'])\n",
        "hist = basic_CNN_model.fit(x_train, y_train, epochs=20, validation_data=(x_test, y_test))\n",
        "\n",
        "plt.plot(hist.history['accuracy'], label='accuracy')\n",
        "plt.plot(hist.history['val_accuracy'], label='val_accuracy')\n",
        "plt.xlabel('Epoch')\n",
        "plt.ylabel('Accuracy')\n",
        "plt.ylim([0.5, 1])\n",
        "plt.legend(loc='lower right')\n",
        "plt.show()\n",
        "test_loss, test_acc = basic_CNN_model.evaluate(x_test, y_test, verbose=2)\n",
        "print(\"Loss on test set - BASIC CNN \", test_loss)\n",
        "print('Test accuracy - BASIC CNN ', test_acc)\n",
        "y_train_pred = predict_label(basic_CNN_model.predict(x_train))\n",
        "y_test_pred = predict_label(basic_CNN_model.predict(x_test))\n",
        "# REPLACE CLASSES HERE \n",
        "score_report([0., 1.], y_train_pred, y_train, y_test_pred, y_test)"
      ]
    },
    {
      "cell_type": "code",
      "execution_count": 58,
      "metadata": {
        "id": "DoG3iy4xOoHs",
        "colab": {
          "base_uri": "https://localhost:8080/",
          "height": 2682
        },
        "outputId": "19b1a97c-a4f4-41ea-935e-376607336183"
      },
      "outputs": [
        {
          "output_type": "stream",
          "name": "stdout",
          "text": [
            "Starting timer\n",
            "(3710, 32, 32, 1)\n",
            "(3710,)\n",
            "Processed data ran in 4.0533 seconds\n",
            "Train test split ran in 4.0599 seconds\n",
            "Model: \"sequential_7\"\n",
            "_________________________________________________________________\n",
            " Layer (type)                Output Shape              Param #   \n",
            "=================================================================\n",
            " conv2d_18 (Conv2D)          (None, 32, 32, 20)        520       \n",
            "                                                                 \n",
            " elu_9 (ELU)                 (None, 32, 32, 20)        0         \n",
            "                                                                 \n",
            " batch_normalization_9 (Batc  (None, 32, 32, 20)       80        \n",
            " hNormalization)                                                 \n",
            "                                                                 \n",
            " max_pooling2d_15 (MaxPoolin  (None, 16, 16, 20)       0         \n",
            " g2D)                                                            \n",
            "                                                                 \n",
            " dropout_20 (Dropout)        (None, 16, 16, 20)        0         \n",
            "                                                                 \n",
            " conv2d_19 (Conv2D)          (None, 16, 16, 50)        25050     \n",
            "                                                                 \n",
            " elu_10 (ELU)                (None, 16, 16, 50)        0         \n",
            "                                                                 \n",
            " batch_normalization_10 (Bat  (None, 16, 16, 50)       200       \n",
            " chNormalization)                                                \n",
            "                                                                 \n",
            " max_pooling2d_16 (MaxPoolin  (None, 8, 8, 50)         0         \n",
            " g2D)                                                            \n",
            "                                                                 \n",
            " dropout_21 (Dropout)        (None, 8, 8, 50)          0         \n",
            "                                                                 \n",
            " flatten_7 (Flatten)         (None, 3200)              0         \n",
            "                                                                 \n",
            " dense_15 (Dense)            (None, 500)               1600500   \n",
            "                                                                 \n",
            " elu_11 (ELU)                (None, 500)               0         \n",
            "                                                                 \n",
            " dropout_22 (Dropout)        (None, 500)               0         \n",
            "                                                                 \n",
            " dense_16 (Dense)            (None, 1)                 501       \n",
            "                                                                 \n",
            "=================================================================\n",
            "Total params: 1,626,851\n",
            "Trainable params: 1,626,711\n",
            "Non-trainable params: 140\n",
            "_________________________________________________________________\n",
            "None\n",
            "Epoch 1/20\n",
            "87/87 [==============================] - 18s 189ms/step - loss: 1.5530 - accuracy: 0.5794 - val_loss: 0.6136 - val_accuracy: 0.7134\n",
            "Epoch 2/20\n",
            "87/87 [==============================] - 11s 129ms/step - loss: 0.7441 - accuracy: 0.6725 - val_loss: 0.4527 - val_accuracy: 0.7812\n",
            "Epoch 3/20\n",
            "87/87 [==============================] - 11s 128ms/step - loss: 0.5704 - accuracy: 0.7613 - val_loss: 0.5129 - val_accuracy: 0.8071\n",
            "Epoch 4/20\n",
            "87/87 [==============================] - 11s 129ms/step - loss: 0.5005 - accuracy: 0.7983 - val_loss: 0.5143 - val_accuracy: 0.7662\n",
            "Epoch 5/20\n",
            "87/87 [==============================] - 11s 129ms/step - loss: 0.4322 - accuracy: 0.8271 - val_loss: 0.4546 - val_accuracy: 0.8244\n",
            "Epoch 6/20\n",
            "87/87 [==============================] - 11s 129ms/step - loss: 0.4015 - accuracy: 0.8354 - val_loss: 0.3820 - val_accuracy: 0.8556\n",
            "Epoch 7/20\n",
            "87/87 [==============================] - 11s 131ms/step - loss: 0.3833 - accuracy: 0.8472 - val_loss: 0.3684 - val_accuracy: 0.8427\n",
            "Epoch 8/20\n",
            "87/87 [==============================] - 11s 130ms/step - loss: 0.3534 - accuracy: 0.8623 - val_loss: 0.4162 - val_accuracy: 0.8556\n",
            "Epoch 9/20\n",
            "87/87 [==============================] - 11s 130ms/step - loss: 0.3483 - accuracy: 0.8584 - val_loss: 0.6086 - val_accuracy: 0.7177\n",
            "Epoch 10/20\n",
            "87/87 [==============================] - 11s 130ms/step - loss: 0.3164 - accuracy: 0.8684 - val_loss: 0.4285 - val_accuracy: 0.8416\n",
            "Epoch 11/20\n",
            "87/87 [==============================] - 11s 131ms/step - loss: 0.2786 - accuracy: 0.8864 - val_loss: 0.3601 - val_accuracy: 0.8675\n",
            "Epoch 12/20\n",
            "87/87 [==============================] - 12s 136ms/step - loss: 0.2617 - accuracy: 0.8911 - val_loss: 0.4149 - val_accuracy: 0.8621\n",
            "Epoch 13/20\n",
            "87/87 [==============================] - 12s 133ms/step - loss: 0.2304 - accuracy: 0.9037 - val_loss: 0.4506 - val_accuracy: 0.8621\n",
            "Epoch 14/20\n",
            "87/87 [==============================] - 11s 130ms/step - loss: 0.2157 - accuracy: 0.9148 - val_loss: 0.4077 - val_accuracy: 0.8578\n",
            "Epoch 15/20\n",
            "87/87 [==============================] - 11s 129ms/step - loss: 0.2323 - accuracy: 0.9022 - val_loss: 0.4299 - val_accuracy: 0.8728\n",
            "Epoch 16/20\n",
            "87/87 [==============================] - 12s 137ms/step - loss: 0.2058 - accuracy: 0.9170 - val_loss: 0.4097 - val_accuracy: 0.8631\n",
            "Epoch 17/20\n",
            "87/87 [==============================] - 13s 155ms/step - loss: 0.1910 - accuracy: 0.9270 - val_loss: 0.4545 - val_accuracy: 0.8502\n",
            "Epoch 18/20\n",
            "87/87 [==============================] - 11s 130ms/step - loss: 0.1587 - accuracy: 0.9360 - val_loss: 0.3961 - val_accuracy: 0.8761\n",
            "Epoch 19/20\n",
            "87/87 [==============================] - 11s 132ms/step - loss: 0.1684 - accuracy: 0.9317 - val_loss: 0.4235 - val_accuracy: 0.8664\n",
            "Epoch 20/20\n",
            "87/87 [==============================] - 11s 130ms/step - loss: 0.1670 - accuracy: 0.9375 - val_loss: 0.5267 - val_accuracy: 0.8631\n"
          ]
        },
        {
          "output_type": "display_data",
          "data": {
            "text/plain": [
              "<Figure size 432x288 with 1 Axes>"
            ],
            "image/png": "[encoded data removed]"
          },
          "metadata": {
            "needs_background": "light"
          }
        },
        {
          "output_type": "stream",
          "name": "stdout",
          "text": [
            "29/29 - 1s - loss: 0.5267 - accuracy: 0.8631 - 873ms/epoch - 30ms/step\n",
            "Loss on test set - LENET CNN  0.5267031192779541\n",
            "Test accuracy - LENET CNN  0.8631465435028076\n",
            "----------- Training Set Report -----------\n",
            "Accuracy 0.9805895039539899\n",
            "Precision 0.9959239130434783\n",
            "Recall 0.9682959048877147\n",
            "F1 0.9819156061620897\n",
            "AUC 0.9817820218444884\n",
            "Confusion matrix [[1262    6]\n",
            " [  48 1466]]\n"
          ]
        },
        {
          "output_type": "display_data",
          "data": {
            "text/plain": [
              "<Figure size 432x288 with 2 Axes>"
            ],
            "image/png": "[encoded data removed]"
          },
          "metadata": {
            "needs_background": "light"
          }
        },
        {
          "output_type": "stream",
          "name": "stdout",
          "text": [
            "----------- Testing Set Report -----------\n",
            "Accuracy 0.8631465517241379\n",
            "Precision 0.918918918918919\n",
            "Recall 0.8176352705410822\n",
            "F1 0.865323435843054\n",
            "AUC 0.8668595933124991\n",
            "Confusion matrix [[393  36]\n",
            " [ 91 408]]\n"
          ]
        },
        {
          "output_type": "display_data",
          "data": {
            "text/plain": [
              "<Figure size 432x288 with 2 Axes>"
            ],
            "image/png": "[encoded data removed]"
          },
          "metadata": {
            "needs_background": "light"
          }
        }
      ],
      "source": [
        "# LeNet CNN Model\n",
        "print(\"Starting timer\")\n",
        "start = time.perf_counter()\n",
        "\n",
        "original_source_dir = '/content/data/genki4k/files/original'\n",
        "source_dir = '/content/data/genki4k/files/cropped_faces1'\n",
        "cropped_dir = '/content/data/genki4k/files/cropped_faces1'\n",
        "labels_dir = '/content/data/genki4k/labels.txt'\n",
        "\n",
        "### DATA ###\n",
        "\n",
        "# read in the face data\n",
        "face_data, labels = process_data(cropped_dir, labels_dir, 32, grey_scale=True)\n",
        "print(f\"Processed data ran in {time.perf_counter() - start:0.4f} seconds\")\n",
        "\n",
        "# # train-test split\n",
        "x_train, y_train, x_test, y_test = train_test_split(face_data, labels)\n",
        "print(f\"Train test split ran in {time.perf_counter() - start:0.4f} seconds\")\n",
        "\n",
        "#LeNet CNN Model\n",
        "LeNet_CNN_model = build_CNN_LeNet()\n",
        "LeNet_CNN_model.compile(optimizer='rmsprop', loss=tf.keras.losses.BinaryCrossentropy(from_logits=False), metrics=['accuracy'])\n",
        "hist = LeNet_CNN_model.fit(x_train, y_train, epochs=20, validation_data=(x_test, y_test))\n",
        "\n",
        "plt.plot(hist.history['accuracy'], label='accuracy')\n",
        "plt.plot(hist.history['val_accuracy'], label='val_accuracy')\n",
        "plt.xlabel('Epoch')\n",
        "plt.ylabel('Accuracy')\n",
        "plt.ylim([0.5, 1])\n",
        "plt.legend(loc='lower right')\n",
        "plt.show()\n",
        "test_loss, test_acc = LeNet_CNN_model.evaluate(x_test, y_test, verbose=2)\n",
        "print(\"Loss on test set - LENET CNN \", test_loss)\n",
        "print('Test accuracy - LENET CNN ', test_acc)\n",
        "y_train_pred = predict_label(LeNet_CNN_model.predict(x_train))\n",
        "y_test_pred = predict_label(LeNet_CNN_model.predict(x_test))\n",
        "# REPLACE CLASSES HERE \n",
        "score_report([0., 1.], y_train_pred, y_train, y_test_pred, y_test)"
      ]
    },
    {
      "cell_type": "code",
      "execution_count": 25,
      "metadata": {
        "id": "4P-J4QUEPCIU",
        "colab": {
          "base_uri": "https://localhost:8080/",
          "height": 2751
        },
        "outputId": "98c3e364-5dc7-473d-a351-4c0d5d43c897"
      },
      "outputs": [
        {
          "output_type": "stream",
          "name": "stdout",
          "text": [
            "Starting timer\n",
            "(3710, 227, 227, 3)\n",
            "(3710,)\n",
            "Processed data ran in 4.5800 seconds\n",
            "Train test split ran in 5.0482 seconds\n",
            "Model: \"sequential\"\n",
            "_________________________________________________________________\n",
            " Layer (type)                Output Shape              Param #   \n",
            "=================================================================\n",
            " conv2d (Conv2D)             (None, 55, 55, 96)        34944     \n",
            "                                                                 \n",
            " batch_normalization (BatchN  (None, 55, 55, 96)       384       \n",
            " ormalization)                                                   \n",
            "                                                                 \n",
            " max_pooling2d (MaxPooling2D  (None, 27, 27, 96)       0         \n",
            " )                                                               \n",
            "                                                                 \n",
            " conv2d_1 (Conv2D)           (None, 27, 27, 256)       614656    \n",
            "                                                                 \n",
            " batch_normalization_1 (Batc  (None, 27, 27, 256)      1024      \n",
            " hNormalization)                                                 \n",
            "                                                                 \n",
            " max_pooling2d_1 (MaxPooling  (None, 13, 13, 256)      0         \n",
            " 2D)                                                             \n",
            "                                                                 \n",
            " conv2d_2 (Conv2D)           (None, 13, 13, 384)       2457984   \n",
            "                                                                 \n",
            " batch_normalization_2 (Batc  (None, 13, 13, 384)      1536      \n",
            " hNormalization)                                                 \n",
            "                                                                 \n",
            " max_pooling2d_2 (MaxPooling  (None, 6, 6, 384)        0         \n",
            " 2D)                                                             \n",
            "                                                                 \n",
            " flatten (Flatten)           (None, 13824)             0         \n",
            "                                                                 \n",
            " dense (Dense)               (None, 4096)              56627200  \n",
            "                                                                 \n",
            " dropout (Dropout)           (None, 4096)              0         \n",
            "                                                                 \n",
            " dense_1 (Dense)             (None, 4096)              16781312  \n",
            "                                                                 \n",
            " dropout_1 (Dropout)         (None, 4096)              0         \n",
            "                                                                 \n",
            " dense_2 (Dense)             (None, 1)                 4097      \n",
            "                                                                 \n",
            "=================================================================\n",
            "Total params: 76,523,137\n",
            "Trainable params: 76,521,665\n",
            "Non-trainable params: 1,472\n",
            "_________________________________________________________________\n",
            "None\n"
          ]
        },
        {
          "output_type": "stream",
          "name": "stderr",
          "text": [
            "/usr/local/lib/python3.7/dist-packages/keras/optimizer_v2/gradient_descent.py:102: UserWarning: The `lr` argument is deprecated, use `learning_rate` instead.\n",
            "  super(SGD, self).__init__(name, **kwargs)\n"
          ]
        },
        {
          "output_type": "stream",
          "name": "stdout",
          "text": [
            "Epoch 1/20\n",
            "87/87 [==============================] - 393s 5s/step - loss: 1.0218 - accuracy: 0.5963 - val_loss: 0.7228 - val_accuracy: 0.5884\n",
            "Epoch 2/20\n",
            "87/87 [==============================] - 389s 4s/step - loss: 0.8640 - accuracy: 0.6488 - val_loss: 0.6120 - val_accuracy: 0.6595\n",
            "Epoch 3/20\n",
            "87/87 [==============================] - 395s 5s/step - loss: 0.8122 - accuracy: 0.6675 - val_loss: 0.5912 - val_accuracy: 0.7155\n",
            "Epoch 4/20\n",
            "87/87 [==============================] - 394s 5s/step - loss: 0.6506 - accuracy: 0.7142 - val_loss: 0.5491 - val_accuracy: 0.7198\n",
            "Epoch 5/20\n",
            "87/87 [==============================] - 384s 4s/step - loss: 0.5968 - accuracy: 0.7365 - val_loss: 0.5082 - val_accuracy: 0.7672\n",
            "Epoch 6/20\n",
            "87/87 [==============================] - 394s 5s/step - loss: 0.5627 - accuracy: 0.7624 - val_loss: 0.4818 - val_accuracy: 0.7769\n",
            "Epoch 7/20\n",
            "87/87 [==============================] - 392s 5s/step - loss: 0.4695 - accuracy: 0.7958 - val_loss: 0.5695 - val_accuracy: 0.7284\n",
            "Epoch 8/20\n",
            "87/87 [==============================] - 394s 5s/step - loss: 0.4247 - accuracy: 0.8127 - val_loss: 0.4277 - val_accuracy: 0.8254\n",
            "Epoch 9/20\n",
            "87/87 [==============================] - 394s 5s/step - loss: 0.3813 - accuracy: 0.8408 - val_loss: 0.4531 - val_accuracy: 0.7877\n",
            "Epoch 10/20\n",
            "87/87 [==============================] - 395s 5s/step - loss: 0.3770 - accuracy: 0.8497 - val_loss: 0.3668 - val_accuracy: 0.8448\n",
            "Epoch 11/20\n",
            "87/87 [==============================] - 396s 5s/step - loss: 0.3407 - accuracy: 0.8609 - val_loss: 0.4415 - val_accuracy: 0.8071\n",
            "Epoch 12/20\n",
            "87/87 [==============================] - 397s 5s/step - loss: 0.2959 - accuracy: 0.8792 - val_loss: 0.3804 - val_accuracy: 0.8384\n",
            "Epoch 13/20\n",
            "87/87 [==============================] - 395s 5s/step - loss: 0.2770 - accuracy: 0.8882 - val_loss: 0.3453 - val_accuracy: 0.8524\n",
            "Epoch 14/20\n",
            "87/87 [==============================] - 395s 5s/step - loss: 0.2897 - accuracy: 0.8828 - val_loss: 0.3381 - val_accuracy: 0.8427\n",
            "Epoch 15/20\n",
            "87/87 [==============================] - 393s 5s/step - loss: 0.2512 - accuracy: 0.8954 - val_loss: 0.3366 - val_accuracy: 0.8599\n",
            "Epoch 16/20\n",
            "87/87 [==============================] - 387s 4s/step - loss: 0.2250 - accuracy: 0.9105 - val_loss: 0.3498 - val_accuracy: 0.8567\n",
            "Epoch 17/20\n",
            "87/87 [==============================] - 390s 4s/step - loss: 0.2165 - accuracy: 0.9152 - val_loss: 0.3299 - val_accuracy: 0.8556\n",
            "Epoch 18/20\n",
            "87/87 [==============================] - 390s 4s/step - loss: 0.1837 - accuracy: 0.9213 - val_loss: 0.4324 - val_accuracy: 0.8103\n",
            "Epoch 19/20\n",
            "87/87 [==============================] - 390s 4s/step - loss: 0.1611 - accuracy: 0.9396 - val_loss: 0.3529 - val_accuracy: 0.8481\n",
            "Epoch 20/20\n",
            "87/87 [==============================] - 389s 4s/step - loss: 0.1677 - accuracy: 0.9339 - val_loss: 0.3068 - val_accuracy: 0.8739\n"
          ]
        },
        {
          "output_type": "display_data",
          "data": {
            "text/plain": [
              "<Figure size 432x288 with 1 Axes>"
            ],
            "image/png": "[encoded data removed]"
          },
          "metadata": {
            "needs_background": "light"
          }
        },
        {
          "output_type": "stream",
          "name": "stdout",
          "text": [
            "29/29 - 29s - loss: 0.3068 - accuracy: 0.8739 - 29s/epoch - 1s/step\n",
            "Loss on test set - ALEXNET CNN  0.30684447288513184\n",
            "Test accuracy - ALEXNET CNN  0.8739224076271057\n",
            "----------- Training Set Report -----------\n",
            "Accuracy 0.9820273184759166\n",
            "Precision 0.9732201175702155\n",
            "Recall 0.9939959973315544\n",
            "F1 0.9834983498349835\n",
            "AUC 0.981019822516128\n",
            "Confusion matrix [[1242   41]\n",
            " [   9 1490]]\n"
          ]
        },
        {
          "output_type": "display_data",
          "data": {
            "text/plain": [
              "<Figure size 432x288 with 2 Axes>"
            ],
            "image/png": "[encoded data removed]"
          },
          "metadata": {
            "needs_background": "light"
          }
        },
        {
          "output_type": "stream",
          "name": "stdout",
          "text": [
            "----------- Testing Set Report -----------\n",
            "Accuracy 0.8739224137931034\n",
            "Precision 0.878095238095238\n",
            "Recall 0.896887159533074\n",
            "F1 0.8873917228103946\n",
            "AUC 0.8711488937761986\n",
            "Confusion matrix [[350  64]\n",
            " [ 53 461]]\n"
          ]
        },
        {
          "output_type": "display_data",
          "data": {
            "text/plain": [
              "<Figure size 432x288 with 2 Axes>"
            ],
            "image/png": "[encoded data removed]"
          },
          "metadata": {
            "needs_background": "light"
          }
        }
      ],
      "source": [
        "# AlexNet CNN Model\n",
        "print(\"Starting timer\")\n",
        "start = time.perf_counter()\n",
        "\n",
        "original_source_dir = '/content/data/genki4k/files/original'\n",
        "source_dir = '/content/data/genki4k/files/cropped_faces1'\n",
        "cropped_dir = '/content/data/genki4k/files/cropped_faces1'\n",
        "labels_dir = '/content/data/genki4k/labels.txt'\n",
        "\n",
        "# read in the face data\n",
        "face_data, labels = process_data(cropped_dir, labels_dir, 227)\n",
        "print(f\"Processed data ran in {time.perf_counter() - start:0.4f} seconds\")\n",
        "\n",
        "# # train-test split\n",
        "x_train, y_train, x_test, y_test = train_test_split(face_data, labels)\n",
        "print(f\"Train test split ran in {time.perf_counter() - start:0.4f} seconds\")\n",
        "\n",
        "AlexNet_CNN_model = build_CNN_AlexNet()\n",
        "AlexNet_CNN_model.compile(optimizer=tf.optimizers.SGD(lr=0.001), loss=tf.keras.losses.BinaryCrossentropy(from_logits=False), metrics=['accuracy'])\n",
        "hist = AlexNet_CNN_model.fit(x_train, y_train, epochs=20, validation_data=(x_test, y_test))\n",
        "\n",
        "plt.plot(hist.history['accuracy'], label='accuracy')\n",
        "plt.plot(hist.history['val_accuracy'], label='val_accuracy')\n",
        "plt.xlabel('Epoch')\n",
        "plt.ylabel('Accuracy')\n",
        "plt.ylim([0.5, 1])\n",
        "plt.legend(loc='lower right')\n",
        "plt.show()\n",
        "test_loss, test_acc = AlexNet_CNN_model.evaluate(x_test, y_test, verbose=2)\n",
        "print(\"Loss on test set - ALEXNET CNN \", test_loss)\n",
        "print('Test accuracy - ALEXNET CNN ', test_acc)\n",
        "y_train_pred = predict_label(AlexNet_CNN_model.predict(x_train))\n",
        "y_test_pred = predict_label(AlexNet_CNN_model.predict(x_test))\n",
        "# REPLACE CLASSES HERE \n",
        "score_report([0., 1.], y_train_pred, y_train, y_test_pred, y_test)"
      ]
    },
    {
      "cell_type": "code",
      "source": [
        ""
      ],
      "metadata": {
        "id": "ppciGKR8DgsV"
      },
      "execution_count": null,
      "outputs": []
    }
  ],
  "metadata": {
    "colab": {
      "name": "FinalProject.ipynb",
      "provenance": [],
      "collapsed_sections": []
    },
    "kernelspec": {
      "display_name": "Python 3",
      "name": "python3"
    },
    "language_info": {
      "name": "python"
    },
    "accelerator": "GPU"
  },
  "nbformat": 4,
  "nbformat_minor": 0
}